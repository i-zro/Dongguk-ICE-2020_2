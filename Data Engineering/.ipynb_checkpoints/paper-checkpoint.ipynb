{
 "cells": [
  {
   "cell_type": "markdown",
   "metadata": {},
   "source": [
    "# 20-09-14"
   ]
  },
  {
   "cell_type": "raw",
   "metadata": {},
   "source": [
    "- 데이터 수집 방법 : _,_,_\n",
    "- 데이터의 형식 : _ ex)\n",
    "\n",
    "2. 데이터 전처리\n",
    "- 데이터 전처리 : _,_,_\n",
    "- 데이터 클리닝 : _,_,_"
   ]
  },
  {
   "cell_type": "code",
   "execution_count": 21,
   "metadata": {
    "scrolled": false
   },
   "outputs": [],
   "source": [
    "import csv\n",
    "\n",
    "f = open('seoul_weather.csv', encoding='UTF8') # f: file handler\n",
    "\n",
    "data = csv.reader(f)\n",
    "header = next(data) # 맨 윗줄 없애기"
   ]
  },
  {
   "cell_type": "code",
   "execution_count": 22,
   "metadata": {},
   "outputs": [],
   "source": [
    "max_temp = -999\n",
    "max_date = ''\n",
    "\n",
    "for row in data:\n",
    "    if row[-1]=='':\n",
    "        row[-1] = -999 # 데이터 클리닝\n",
    "    else:\n",
    "        row[-1] = float(row[-1]) # 데이터 변환\n",
    "        \n",
    "    # 최고 기온 판별\n",
    "    if max_temp < row[-1] : \n",
    "        max_date = row[0]\n",
    "        max_temp = row[-1]\n",
    "f.close()"
   ]
  },
  {
   "cell_type": "code",
   "execution_count": 23,
   "metadata": {},
   "outputs": [
    {
     "name": "stdout",
     "output_type": "stream",
     "text": [
      "2018-08-01 : 39.6\n"
     ]
    }
   ],
   "source": [
    "print(max_date, \":\", max_temp)"
   ]
  },
  {
   "cell_type": "code",
   "execution_count": null,
   "metadata": {},
   "outputs": [],
   "source": []
  }
 ],
 "metadata": {
  "kernelspec": {
   "display_name": "Python 3",
   "language": "python",
   "name": "python3"
  },
  "language_info": {
   "codemirror_mode": {
    "name": "ipython",
    "version": 3
   },
   "file_extension": ".py",
   "mimetype": "text/x-python",
   "name": "python",
   "nbconvert_exporter": "python",
   "pygments_lexer": "ipython3",
   "version": "3.7.6"
  }
 },
 "nbformat": 4,
 "nbformat_minor": 4
}
